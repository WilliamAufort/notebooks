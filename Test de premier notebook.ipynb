{
 "cells": [
  {
   "cell_type": "markdown",
   "metadata": {},
   "source": [
    "# Présentation\n",
    "\n",
    "Jupyter est une application web qui permet de concevoir et de travailler sur des documents interactifs (un notebook) contenant à la fois du texte, des images, et du code que l'on peut lancer !\n",
    "\n",
    "Pour lancer du code, c'est comme dans Pyzo : on utilise les touches Ctrl + Entrée, en ayant au préalable cliqué sur le bout de code que l'on veut lancer. Le résultat de l'exécution s'affiche juste en dessous."
   ]
  },
  {
   "cell_type": "code",
   "execution_count": 1,
   "metadata": {
    "scrolled": true
   },
   "outputs": [
    {
     "name": "stdout",
     "output_type": "stream",
     "text": [
      "Hello world!\n"
     ]
    }
   ],
   "source": [
    "print('Hello world!')"
   ]
  },
  {
   "cell_type": "markdown",
   "metadata": {},
   "source": [
    "Je pense qu'on peut s'en servir dans certains TP, par exemple au moment où on voit différentes bibliothèques Python. On peut montrer différents exemples interactifs, que les étudiants peuvent modifier, et leur demander de faire les leurs après.\n",
    "\n",
    "J'ai repris un exemple d'un des TP de l'an dernier."
   ]
  },
  {
   "cell_type": "code",
   "execution_count": 5,
   "metadata": {},
   "outputs": [
    {
     "data": {
      "text/plain": [
       "[<matplotlib.lines.Line2D at 0x7f1734089f98>]"
      ]
     },
     "execution_count": 5,
     "metadata": {},
     "output_type": "execute_result"
    },
    {
     "data": {
      "image/png": "[encoded data removed]",
      "text/plain": [
       "<Figure size 432x288 with 1 Axes>"
      ]
     },
     "metadata": {
      "needs_background": "light"
     },
     "output_type": "display_data"
    }
   ],
   "source": [
    "from pylab import *\n",
    "\n",
    "def f(x):\n",
    "    return x**2 - 4\n",
    "\n",
    "X = [-2 + i/100 for i in range(400)]\n",
    "GX = [f(x) for x in X]\n",
    "plot(X,GX)"
   ]
  },
  {
   "cell_type": "markdown",
   "metadata": {},
   "source": [
    "On peut aussi insérer des liens vers des pages Internet, par exemple le guide dont je me suis rapidement servi :\n",
    "\n",
    "https://medium.com/codingthesmartway-com-blog/getting-started-with-jupyter-notebook-for-python-4e7082bd5d46\n",
    "\n",
    "On peut également inséré des formules :"
   ]
  },
  {
   "cell_type": "markdown",
   "metadata": {},
   "source": [
    "$$F(k) = \\int_{-\\infty}^{+\\infty} f(x) e^{2i \\pi x} dx$$"
   ]
  },
  {
   "cell_type": "code",
   "execution_count": null,
   "metadata": {},
   "outputs": [],
   "source": []
  },
  {
   "cell_type": "code",
   "execution_count": null,
   "metadata": {},
   "outputs": [],
   "source": []
  }
 ],
 "metadata": {
  "kernelspec": {
   "display_name": "Python 3",
   "language": "python",
   "name": "python3"
  },
  "language_info": {
   "codemirror_mode": {
    "name": "ipython",
    "version": 3
   },
   "file_extension": ".py",
   "mimetype": "text/x-python",
   "name": "python",
   "nbconvert_exporter": "python",
   "pygments_lexer": "ipython3",
   "version": "3.6.5"
  }
 },
 "nbformat": 4,
 "nbformat_minor": 2
}
